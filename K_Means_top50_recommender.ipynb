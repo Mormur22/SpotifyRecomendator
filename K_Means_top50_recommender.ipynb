{
 "cells": [
  {
   "cell_type": "markdown",
   "source": [
    "\n",
    "<h2>Recomendador de Canciones del Top50 de Spotify con K-means</>\n",
    "\n",
    "Para quienes no estén muy familiarizados con el término, un algoritmo recomendador es un tipo de inteligencia artificial que se encarga de hacer recomendaciones personalizadas basadas en los gustos y preferencias de cada usuario. En nuestro caso, hemos utilizado un algoritmo recomendador para hacer recomendaciones de canciones en Spotify, basándonos en los géneros musicales preferidos y no preferidos de un usuario determinado.\n",
    "\n",
    "Para llevar a cabo este proyecto, hemos utilizado Python y la biblioteca Spotipy, que nos permite acceder a la API de Spotify y obtener información sobre canciones, artistas, playlists, etc. También hemos usado diversas técnicas de análisis de datos y aprendizaje automático, como la extracción de características de audio de las canciones, la normalización de datos y el uso de un modelo de clasificación basado en vecinos cercanos.\n",
    "\n",
    "La utilidad de los algoritmos recomendadores es innegable, ya que nos permiten descubrir nuevas canciones, películas, libros, productos, etc. que de otro modo quizás nunca hubiéramos conocido. Además, a medida que la cantidad de información disponible en línea sigue creciendo exponencialmente, los algoritmos recomendadores se vuelven cada vez más relevantes para ayudarnos a encontrar lo que estamos buscando.\n",
    "\n",
    "Como usuario habitual de spotify siempre busco descubrir géneros nuevos, artistas desconocidos y música rara que a pena se suele colar en las listas de los temas más virales. Soy consciente de que la lista de top 50 tanto global como la de España varía además bastante a menudo. Por ello y de cara al veranito he decidido hacer este recomendador para que, con base en los gustos personales del usuario que se le da al inicio del cuaderno, el algoritmo sea capaz de darnos las canciones de ambos top que más nos pueden gustar.\n",
    "\n",
    "Por tanto, si eres usuario de Spotify y quieres descubrir nuevas canciones basadas en tus gustos musicales no dudes en echarle un vistazo a este recomendador :)\n"
   ],
   "metadata": {
    "collapsed": false
   }
  },
  {
   "cell_type": "code",
   "execution_count": null,
   "outputs": [],
   "source": [
    "import spotipy\n",
    "import pandas as pd\n",
    "from spotipy.oauth2 import SpotifyOAuth\n",
    "from spotipy.oauth2 import SpotifyClientCredentials\n",
    "\n",
    "client_id = '7d0bf6eb0e8a4145ab4cb73c46f16422'\n",
    "client_secret = '0608f4cca00d415c846558397f79b0fd'\n",
    "nombre_usuario = 'alexmor_22'  # Rellenar con el nombre de usuario del que se quiera sacar informacion\n",
    "redirect_uri = 'http://localhost:8889/callback'\n",
    "\n",
    "# Incluir los scopes 'user-library-read', 'user-top-read' y 'playlist-read-private'\n",
    "scope = 'user-library-read user-top-read playlist-read-private'\n",
    "\n",
    "auth_manager = SpotifyOAuth(client_id=client_id, client_secret=client_secret, redirect_uri=redirect_uri, scope=scope,\n",
    "                            username=nombre_usuario)\n",
    "\n",
    "sp = spotipy.Spotify(auth_manager=auth_manager)\n"
   ],
   "metadata": {
    "collapsed": false
   }
  },
  {
   "cell_type": "code",
   "execution_count": null,
   "outputs": [],
   "source": [
    "\n",
    "def get_top_artists(sp, limit=100, time_range='medium_term'):\n",
    "    top_artists = sp.current_user_top_artists(limit=limit, time_range=time_range)\n",
    "    return top_artists['items']\n",
    "\n",
    "\n",
    "top_artists = get_top_artists(sp)\n",
    "print(top_artists)\n",
    "\n",
    "\n",
    "def get_genres_from_artists(artists):\n",
    "    genres = []\n",
    "    for artist in artists:\n",
    "        genres.extend(artist['genres'])\n",
    "    return genres\n",
    "\n",
    "\n",
    "top_genres = get_genres_from_artists(top_artists)\n",
    "print(top_genres)\n",
    "from collections import Counter\n",
    "\n",
    "\n",
    "def get_top_n_genres(genres, n=5):\n",
    "    counter = Counter(genres)\n",
    "    return [item[0] for item in counter.most_common(n)]\n",
    "\n",
    "\n",
    "top_5_genres = get_top_n_genres(top_genres)\n",
    "print(top_5_genres)\n",
    "generos_indiferentes = ['latino', 'funk', 'disco', 'Electro', 'techno', 'house', ]\n",
    "generos_no_gustados = ['K-Pop', 'latino', 'trance', 'dubstep', 'reggaeton', 'ska']\n",
    "\n",
    "\n",
    "def get_tracks_by_genres(sp, genres, limit=50):\n",
    "    track_data = []\n",
    "    for genre in genres:\n",
    "        results = sp.search(q=f'genre:\"{genre}\"', type='track', limit=limit)\n",
    "        tracks = results['tracks']['items']\n",
    "\n",
    "        for track in tracks:\n",
    "            track_data.append({\n",
    "                'id': track['id'],\n",
    "                'name': track['name'],\n",
    "                'artists': [artist['name'] for artist in track['artists']],\n",
    "                'album': track['album']['name'],\n",
    "                'popularity': track['popularity']\n",
    "            })\n",
    "    return track_data\n",
    "\n",
    "\n",
    "def get_audio_features(track_ids):\n",
    "    audio_features = []\n",
    "    for track_id in track_ids:\n",
    "        features = sp.audio_features(track_id)\n",
    "        audio_features.append(features)\n",
    "    return audio_features\n"
   ],
   "metadata": {
    "collapsed": false
   }
  },
  {
   "cell_type": "code",
   "execution_count": null,
   "outputs": [],
   "source": [
    "\n",
    "preferred_genres_tracks = get_tracks_by_genres(sp, top_5_genres)\n",
    "indifferent_genres_tracks = get_tracks_by_genres(sp, generos_indiferentes)\n",
    "disliked_genres_tracks = get_tracks_by_genres(sp, generos_no_gustados)\n",
    "\n",
    "preferred_genres_df = pd.DataFrame(preferred_genres_tracks)\n",
    "indifferent_genres_df = pd.DataFrame(indifferent_genres_tracks)\n",
    "disliked_genres_df = pd.DataFrame(disliked_genres_tracks)\n",
    "\n",
    "preferred_genres_df['preferencia'] = 1\n",
    "indifferent_genres_df['preferencia'] = 0\n",
    "disliked_genres_df['preferencia'] = -1\n",
    "\n",
    "preferred_genres_df.to_csv('generos_preferidos.csv', index=False)\n",
    "indifferent_genres_df.to_csv('generos_indiferentes.csv', index=False)\n",
    "disliked_genres_df.to_csv('generos_no_gustados.csv', index=False)\n"
   ],
   "metadata": {
    "collapsed": false
   }
  },
  {
   "cell_type": "code",
   "execution_count": null,
   "outputs": [],
   "source": [
    "\n",
    "def add_audio_features_to_df(df):\n",
    "    audio_features_list = []\n",
    "    for track_id in df['id']:\n",
    "        audio_features = sp.audio_features(track_id)[0]\n",
    "        if audio_features:\n",
    "            audio_features_list.append(audio_features)\n",
    "        else:\n",
    "            audio_features_list.append(None)\n",
    "\n",
    "    audio_features_df = pd.DataFrame(audio_features_list,\n",
    "                                     columns=['id', 'danceability', 'energy', 'acousticness', 'instrumentalness',\n",
    "                                              'tempo', 'valence', 'duration_ms', 'time_signature', 'key'])\n",
    "    df = df.merge(audio_features_df, on='id')\n",
    "    return df\n",
    "\n",
    "\n",
    "preferred_genres_df = add_audio_features_to_df(preferred_genres_df)\n",
    "indifferent_genres_df = add_audio_features_to_df(indifferent_genres_df)\n",
    "disliked_genres_df = add_audio_features_to_df(disliked_genres_df)\n",
    "\n",
    "datos_totales = pd.concat([preferred_genres_df, indifferent_genres_df, disliked_genres_df], ignore_index=True)\n",
    "\n",
    "print(datos_totales)\n",
    "\n",
    "print(datos_totales.columns)"
   ],
   "metadata": {
    "collapsed": false
   }
  },
  {
   "cell_type": "code",
   "execution_count": null,
   "outputs": [],
   "source": [
    "from sklearn.preprocessing import MinMaxScaler\n",
    "def normalize_audio_features(df):\n",
    "    scaler = MinMaxScaler()\n",
    "    features = ['danceability', 'energy', 'acousticness', 'instrumentalness', 'tempo', 'valence', 'duration_ms',\n",
    "                'time_signature', 'key']\n",
    "    df[features] = scaler.fit_transform(df[features])\n",
    "    return df\n",
    "\n",
    "\n",
    "datos_totales = normalize_audio_features(datos_totales)"
   ],
   "metadata": {
    "collapsed": false
   }
  },
  {
   "cell_type": "code",
   "execution_count": null,
   "outputs": [],
   "source": [
    "\n",
    "from sklearn.model_selection import train_test_split\n",
    "from sklearn.neighbors import KNeighborsClassifier\n",
    "from sklearn.metrics import classification_report, confusion_matrix, accuracy_score\n",
    "\n",
    "# Seleccione las características de audio y la columna de preferencia\n",
    "caracteristicas = ['danceability', 'energy', 'acousticness', 'instrumentalness', 'tempo', 'valence', 'duration_ms',\n",
    "                   'time_signature', 'key']\n",
    "X = datos_totales[caracteristicas]\n",
    "y = datos_totales['preferencia']\n",
    "\n",
    "# Divide los datos en conjuntos de entrenamiento y prueba\n",
    "X_entrenamiento, X_prueba, y_entrenamiento, y_prueba = train_test_split(X, y, test_size=0.2, random_state=42)\n",
    "\n",
    "k = 3\n",
    "knn = KNeighborsClassifier(n_neighbors=k)\n",
    "knn.fit(X_entrenamiento, y_entrenamiento)\n",
    "y_pred = knn.predict(X_prueba)\n",
    "\n",
    "print(\"Matriz de confusión:\\n\", confusion_matrix(y_prueba, y_pred))\n",
    "print(\"\\nReporte de clasificación:\\n\", classification_report(y_prueba, y_pred))\n",
    "print(\"Precisión:\", accuracy_score(y_prueba, y_pred))\n"
   ],
   "metadata": {
    "collapsed": false
   }
  },
  {
   "cell_type": "code",
   "execution_count": null,
   "outputs": [],
   "source": [
    "\n",
    "def obtener_id_playlist(nombre_playlist):\n",
    "    resultados = sp.search(q=nombre_playlist, type='playlist', limit=1)\n",
    "    playlist_id = resultados['playlists']['items'][0]['id']\n",
    "    return playlist_id\n",
    "\n",
    "\n",
    "def obtener_canciones_playlist(playlist_id):\n",
    "    resultados = sp.playlist_tracks(playlist_id)\n",
    "    canciones = resultados['items']\n",
    "    return canciones\n",
    "\n",
    "\n",
    "# Obtenemos las ID de las playlists de virales de España y del mundo\n",
    "id_virales_españa = obtener_id_playlist('Viral 50 - España')\n",
    "id_virales_global = obtener_id_playlist('Viral 50 - Global')\n",
    "\n",
    "# Obtenemos las canciones de cada playlist\n",
    "canciones_virales_españa = obtener_canciones_playlist(id_virales_españa)\n",
    "canciones_virales_global = obtener_canciones_playlist(id_virales_global)\n",
    "\n",
    "# Combinamos ambas listas de canciones\n",
    "canciones_virales = canciones_virales_españa + canciones_virales_global\n",
    "\n",
    "print(canciones_virales)\n"
   ],
   "metadata": {
    "collapsed": false
   }
  },
  {
   "cell_type": "code",
   "execution_count": null,
   "outputs": [],
   "source": [
    "def extraer_informacion_canciones(canciones):\n",
    "    info_canciones = []\n",
    "    for cancion in canciones:\n",
    "        track = cancion['track']\n",
    "        info_canciones.append({\n",
    "            'id': track['id'],\n",
    "            'name': track['name'],\n",
    "            'artists': [artist['name'] for artist in track['artists']],\n",
    "            'album': track['album']['name'],\n",
    "            'popularity': track['popularity']\n",
    "        })\n",
    "    return info_canciones\n",
    "\n",
    "\n",
    "# Extraemos la información relevante de las canciones virales\n",
    "info_canciones_virales = extraer_informacion_canciones(canciones_virales)\n",
    "\n",
    "# Creamos un DataFrame con la información de las canciones virales\n",
    "canciones_virales_df = pd.DataFrame(info_canciones_virales)\n",
    "\n",
    "print(canciones_virales_df)\n",
    "print(canciones_virales_df.columns)"
   ],
   "metadata": {
    "collapsed": false
   }
  },
  {
   "cell_type": "code",
   "execution_count": null,
   "outputs": [],
   "source": [
    "# Añadimos las características de audio al DataFrame\n",
    "canciones_virales_df = add_audio_features_to_df(canciones_virales_df)\n",
    "\n",
    "# Normalizamos las características de audio\n",
    "canciones_virales_df = normalize_audio_features(canciones_virales_df)\n",
    "\n",
    "# Predecimos la preferencia del usuario utilizando el modelo entrenado\n",
    "X_virales = canciones_virales_df[\n",
    "    ['danceability', 'energy', 'acousticness', 'instrumentalness', 'tempo', 'valence', 'duration_ms', 'time_signature',\n",
    "     'key']]\n",
    "y_pred_virales = knn.predict(X_virales)\n",
    "\n",
    "# Filtramos las canciones recomendadas (aquellas con una preferencia de 1)\n",
    "canciones_recomendadas = canciones_virales_df[y_pred_virales == 1]\n",
    "\n",
    "# Imprimimos las canciones recomendadas\n",
    "print(\"Canciones recomendadas:\")\n",
    "print(canciones_recomendadas)"
   ],
   "metadata": {
    "collapsed": false
   }
  }
 ],
 "metadata": {
  "kernelspec": {
   "display_name": "Python 3",
   "language": "python",
   "name": "python3"
  },
  "language_info": {
   "codemirror_mode": {
    "name": "ipython",
    "version": 3
   },
   "file_extension": ".py",
   "mimetype": "text/x-python",
   "name": "python",
   "nbconvert_exporter": "python",
   "pygments_lexer": "ipython3",
   "version": "3.11.0"
  },
  "orig_nbformat": 4
 },
 "nbformat": 4,
 "nbformat_minor": 2
}
